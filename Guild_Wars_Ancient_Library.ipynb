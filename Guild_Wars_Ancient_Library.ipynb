{
  "nbformat": 4,
  "nbformat_minor": 0,
  "metadata": {
    "colab": {
      "provenance": [],
      "authorship_tag": "ABX9TyNm94ElMQnHHKRINCut3emQ",
      "include_colab_link": true
    },
    "kernelspec": {
      "name": "python3",
      "display_name": "Python 3"
    },
    "language_info": {
      "name": "python"
    }
    
  },
  "cells": [
    {
      "cell_type": "markdown",
      "metadata": {
        "id": "view-in-github",
        "colab_type": "text"
      },
      "source": [
        "<a href=\"https://colab.research.google.com/github/vlad-pirvu/LLM_testing/blob/main/Guild_Wars_Ancient_Library.ipynb\" target=\"_parent\"><img src=\"https://colab.research.google.com/assets/colab-badge.svg\" alt=\"Open In Colab\"/></a>"
      ]
    },
    {
      "cell_type": "code",
      "source": [
        "!pip install sentence-transformers faiss-cpu gradio beautifulsoup4 requests"
      ],
      "metadata": {
        "id": "oO65WTLWl3JH"
      },
      "execution_count": null,
      "outputs": []
    },
    {
      "cell_type": "code",
      "source": [
        "import requests\n",
        "from bs4 import BeautifulSoup\n",
        "from sentence_transformers import SentenceTransformer\n",
        "import faiss\n",
        "import numpy as np\n",
        "import gradio as gr\n",
        "import time"
      ],
      "metadata": {
        "id": "jeUYVHrIl6b6"
      },
      "execution_count": 18,
      "outputs": []
    },
    {
      "cell_type": "code",
      "source": [
        "BASE_URL = \"https://wiki.guildwars.com\"\n",
        "MAIN_PAGE = \"https://wiki.guildwars.com/wiki/Main_Page\"\n",
        "\n",
        "def get_links_from_main():\n",
        "    res = requests.get(MAIN_PAGE)\n",
        "    soup = BeautifulSoup(res.text, 'html.parser')\n",
        "\n",
        "    # Find relevant internal links in the main content area\n",
        "    content = soup.find(id=\"mw-content-text\")\n",
        "    links = content.find_all('a', href=True)\n",
        "\n",
        "    urls = set()\n",
        "    for a in links:\n",
        "        href = a['href']\n",
        "        if href.startswith(\"/wiki/\") and not \":\" in href and len(href) > 6:\n",
        "            full_url = BASE_URL + href\n",
        "            urls.add(full_url)\n",
        "\n",
        "    return list(urls)\n",
        "\n",
        "urls = get_links_from_main()\n",
        "print(f\"Found {len(urls)} article URLs\")\n"
      ],
      "metadata": {
        "colab": {
          "base_uri": "https://localhost:8080/"
        },
        "id": "jOPjJuTll7Uf",
        "outputId": "7b83bd3f-5e7f-4f60-c59f-98d3f7d701d8"
      },
      "execution_count": 19,
      "outputs": [
        {
          "output_type": "stream",
          "name": "stdout",
          "text": [
            "Found 149 article URLs\n"
          ]
        }
      ]
    },
    {
      "cell_type": "code",
      "source": [
        "def scrape_text_from_url(url):\n",
        "    try:\n",
        "        res = requests.get(url)\n",
        "        soup = BeautifulSoup(res.text, 'html.parser')\n",
        "        content = soup.find(id=\"mw-content-text\")\n",
        "        if content:\n",
        "            paragraphs = content.find_all('p')\n",
        "            text = \"\\n\".join(p.get_text() for p in paragraphs)\n",
        "            return text.strip()\n",
        "    except Exception as e:\n",
        "        print(f\"Failed to scrape {url}: {e}\")\n",
        "    return \"\"\n",
        "\n",
        "# Scrape texts with a small delay to be polite to server\n",
        "texts = []\n",
        "for i, url in enumerate(urls[:30]):  # limit to first 30 for speed & API friendliness\n",
        "    print(f\"Scraping {i+1}/{len(urls)}: {url}\")\n",
        "    text = scrape_text_from_url(url)\n",
        "    if text:\n",
        "        texts.append((url, text))\n",
        "    time.sleep(1)  # polite delay\n"
      ],
      "metadata": {
        "colab": {
          "base_uri": "https://localhost:8080/"
        },
        "id": "nzAh8wzSmDGc",
        "outputId": "6c11d477-6042-4215-cc8f-d1844905ba33"
      },
      "execution_count": 20,
      "outputs": [
        {
          "output_type": "stream",
          "name": "stdout",
          "text": [
            "Scraping 1/149: https://wiki.guildwars.com/wiki/Storyline\n",
            "Scraping 2/149: https://wiki.guildwars.com/wiki/News\n",
            "Scraping 3/149: https://wiki.guildwars.com/wiki/Storybook\n",
            "Scraping 4/149: https://wiki.guildwars.com/wiki/Game_mechanics\n",
            "Scraping 5/149: https://wiki.guildwars.com/wiki/NPC_service\n",
            "Scraping 6/149: https://wiki.guildwars.com/wiki/Guide_to_hard_mode\n",
            "Scraping 7/149: https://wiki.guildwars.com/wiki/Guide_to_character_creation\n",
            "Scraping 8/149: https://wiki.guildwars.com/wiki/Campaign_travel\n",
            "Scraping 9/149: https://wiki.guildwars.com/wiki/Guild_hall\n",
            "Scraping 10/149: https://wiki.guildwars.com/wiki/Build\n",
            "Scraping 11/149: https://wiki.guildwars.com/wiki/Zaishen_Vanquish\n",
            "Scraping 12/149: https://wiki.guildwars.com/wiki/Armorer\n",
            "Scraping 13/149: https://wiki.guildwars.com/wiki/Unique_item\n",
            "Scraping 14/149: https://wiki.guildwars.com/wiki/Emote\n",
            "Scraping 15/149: https://wiki.guildwars.com/wiki/Skill\n",
            "Scraping 16/149: https://wiki.guildwars.com/wiki/Collector\n",
            "Scraping 17/149: https://wiki.guildwars.com/wiki/Cape\n",
            "Scraping 18/149: https://wiki.guildwars.com/wiki/Lore\n",
            "Scraping 19/149: https://wiki.guildwars.com/wiki/Alliance\n",
            "Scraping 20/149: https://wiki.guildwars.com/wiki/Fort_Aspenwood\n",
            "Scraping 21/149: https://wiki.guildwars.com/wiki/Dragon_Festival\n",
            "Scraping 22/149: https://wiki.guildwars.com/wiki/Meek_Shall_Inherit\n",
            "Scraping 23/149: https://wiki.guildwars.com/wiki/Main_Page/featured_article\n",
            "Scraping 24/149: https://wiki.guildwars.com/wiki/Lieutenant_Langmar\n",
            "Scraping 25/149: https://wiki.guildwars.com/wiki/User_interface\n",
            "Scraping 26/149: https://wiki.guildwars.com/wiki/Anniversary_weapon\n",
            "Scraping 27/149: https://wiki.guildwars.com/wiki/Foe_behavior\n",
            "Scraping 28/149: https://wiki.guildwars.com/wiki/Great_Temple_of_Balthazar\n",
            "Scraping 29/149: https://wiki.guildwars.com/wiki/List_of_collectors\n",
            "Scraping 30/149: https://wiki.guildwars.com/wiki/Item\n"
          ]
        }
      ]
    },
    {
      "cell_type": "code",
      "source": [
        "def build_index(texts, model_name='all-MiniLM-L6-v2'):\n",
        "    model = SentenceTransformer(model_name)\n",
        "    chunks = []\n",
        "    meta = []\n",
        "    for url, text in texts:\n",
        "        # Split text into overlapping chunks of ~500 characters\n",
        "        for i in range(0, len(text), 400):\n",
        "            chunk = text[i:i+500]\n",
        "            chunks.append(chunk)\n",
        "            meta.append(url)\n",
        "    embeddings = model.encode(chunks, show_progress_bar=True)\n",
        "    embeddings = np.array(embeddings).astype('float32')\n",
        "    index = faiss.IndexFlatL2(embeddings.shape[1])\n",
        "    index.add(embeddings)\n",
        "    return model, index, chunks, meta\n",
        "\n",
        "model, index, chunks, meta = build_index(texts)\n",
        "print(f\"Indexed {len(chunks)} chunks of lore text\")\n"
      ],
      "metadata": {
        "colab": {
          "base_uri": "https://localhost:8080/",
          "height": 66,
          "referenced_widgets": [
            "dca3d62a2f4e45eebd1700372e335584",
            "7144832ae19e477a910e1ea247518680",
            "22e47e5c306348bca4aa0f317b13439c",
            "1e763dfbf8994019b3d6c8101a3dd1f8",
            "efd355ed2efe48f3988b454332a11ebc",
            "7d14b5fa4a2940abbcaa225d620c2434",
            "cd557f93335744b6ba64af89caa3a314",
            "3f090e11b7d1478e91dd99c5841e76fb",
            "6d027c4a21634ff39260eda25dfd99a2",
            "46f06ee25129488ea89321c83955e959",
            "1059f26f23d149ed8c2adfa44d89b453"
          ]
        },
        "id": "DAz4SydKmGp9",
        "outputId": "48cc7086-fc7c-445c-ba37-0d0a50acc40e"
      },
      "execution_count": 21,
      "outputs": [
        {
          "output_type": "display_data",
          "data": {
            "text/plain": [
              "Batches:   0%|          | 0/11 [00:00<?, ?it/s]"
            ],
            "application/vnd.jupyter.widget-view+json": {
              "version_major": 2,
              "version_minor": 0,
              "model_id": "dca3d62a2f4e45eebd1700372e335584"
            }
          },
          "metadata": {}
        },
        {
          "output_type": "stream",
          "name": "stdout",
          "text": [
            "Indexed 345 chunks of lore text\n"
          ]
        }
      ]
    },
    {
      "cell_type": "code",
      "source": [
        "def search_guild_wars(query, model, index, chunks, meta, top_k=3):\n",
        "    query_embedding = model.encode([query])\n",
        "    query_embedding = np.array(query_embedding).astype('float32')\n",
        "    D, I = index.search(query_embedding, top_k)\n",
        "    results = []\n",
        "    for i in I[0]:\n",
        "        results.append(f\"🔗 {meta[i]}:\\n{chunks[i]}\")\n",
        "    return \"\\n\\n---\\n\\n\".join(results)\n"
      ],
      "metadata": {
        "id": "YHn5DU8xmdIP"
      },
      "execution_count": 22,
      "outputs": []
    },
    {
      "cell_type": "code",
      "source": [
        "def safe_search(q):\n",
        "    try:\n",
        "        return search_guild_wars(q, model, index, chunks, meta)\n",
        "    except Exception as e:\n",
        "        return f\"⚠️ Error during search:\\n{e}\"\n",
        "\n",
        "with gr.Blocks(theme=gr.themes.Monochrome()) as demo:\n",
        "    gr.Markdown(\"# 📜 Guild Wars Lore Retriever 📜\\nAsk any question about Guild Wars lore!\")\n",
        "    query_input = gr.Textbox(label=\"Your question\")\n",
        "    output_text = gr.Textbox(label=\"Lore Answer\", lines=10)\n",
        "    search_button = gr.Button(\"🔮 Search Lore\")\n",
        "\n",
        "    search_button.click(fn=safe_search, inputs=query_input, outputs=output_text)\n",
        "\n",
        "demo.launch()\n"
      ],
      "metadata": {
        "colab": {
          "base_uri": "https://localhost:8080/",
          "height": 646
        },
        "id": "o5PPL5GpmfWp",
        "outputId": "8504a379-866d-4b8f-b10d-910b01c548a4"
      },
      "execution_count": 23,
      "outputs": [
        {
          "output_type": "stream",
          "name": "stdout",
          "text": [
            "It looks like you are running Gradio on a hosted a Jupyter notebook. For the Gradio app to work, sharing must be enabled. Automatically setting `share=True` (you can turn this off by setting `share=False` in `launch()` explicitly).\n",
            "\n",
            "Colab notebook detected. To show errors in colab notebook, set debug=True in launch()\n",
            "* Running on public URL: https://c93edb0c261f22d7d9.gradio.live\n",
            "\n",
            "This share link expires in 1 week. For free permanent hosting and GPU upgrades, run `gradio deploy` from the terminal in the working directory to deploy to Hugging Face Spaces (https://huggingface.co/spaces)\n"
          ]
        },
        {
          "output_type": "display_data",
          "data": {
            "text/plain": [
              "<IPython.core.display.HTML object>"
            ],
            "text/html": [
              "<div><iframe src=\"https://c93edb0c261f22d7d9.gradio.live\" width=\"100%\" height=\"500\" allow=\"autoplay; camera; microphone; clipboard-read; clipboard-write;\" frameborder=\"0\" allowfullscreen></iframe></div>"
            ]
          },
          "metadata": {}
        },
        {
          "output_type": "execute_result",
          "data": {
            "text/plain": []
          },
          "metadata": {},
          "execution_count": 23
        }
      ]
    }
  ]
}
